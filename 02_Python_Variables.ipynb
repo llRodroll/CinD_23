{
  "nbformat": 4,
  "nbformat_minor": 0,
  "metadata": {
    "colab": {
      "provenance": [],
      "authorship_tag": "ABX9TyPm0XuGIEJv0mb1zNFbNBoT",
      "include_colab_link": true
    },
    "kernelspec": {
      "name": "python3",
      "display_name": "Python 3"
    },
    "language_info": {
      "name": "python"
    }
  },
  "cells": [
    {
      "cell_type": "markdown",
      "metadata": {
        "id": "view-in-github",
        "colab_type": "text"
      },
      "source": [
        "<a href=\"https://colab.research.google.com/github/llRodroll/CinD_23/blob/main/02_Python_Variables.ipynb\" target=\"_parent\"><img src=\"https://colab.research.google.com/assets/colab-badge.svg\" alt=\"Open In Colab\"/></a>"
      ]
    },
    {
      "cell_type": "markdown",
      "source": [
        "# **1. What is a variable?**\n",
        "\n",
        "A variable is a `container`, in the sense that it *stores* values."
      ],
      "metadata": {
        "id": "1CiyHSxMwjum"
      }
    },
    {
      "cell_type": "markdown",
      "source": [
        "# **2. Declaration** "
      ],
      "metadata": {
        "id": "EDSFQRk1oa_4"
      }
    },
    {
      "cell_type": "code",
      "execution_count": 1,
      "metadata": {
        "colab": {
          "base_uri": "https://localhost:8080/"
        },
        "id": "3vUDtlWhwc-V",
        "outputId": "206f0158-a068-444c-c8e3-deefae10aacc"
      },
      "outputs": [
        {
          "output_type": "stream",
          "name": "stdout",
          "text": [
            "2.57\n"
          ]
        }
      ],
      "source": [
        "# Example\n",
        "\n",
        "a = 2.57\n",
        "print(a)"
      ]
    },
    {
      "cell_type": "code",
      "source": [
        "#Example\n",
        "num = 3.14195687246\n",
        "pi  = 0\n",
        "pf  = 7\n",
        "\n",
        "print('The approximation of',num, 'with:')\n",
        "print('Decimals','Result')\n",
        "for i in range(pi,pf+1): \n",
        "  print(i, '\\t', round(num,i))"
      ],
      "metadata": {
        "colab": {
          "base_uri": "https://localhost:8080/"
        },
        "id": "CYySBmTIx8b6",
        "outputId": "c3538163-a55c-4017-b663-929000417f87"
      },
      "execution_count": 3,
      "outputs": [
        {
          "output_type": "stream",
          "name": "stdout",
          "text": [
            "The approximation of 3.14195687246 with:\n",
            "Decimals Result\n",
            "0 \t 3.0\n",
            "1 \t 3.1\n",
            "2 \t 3.14\n",
            "3 \t 3.142\n",
            "4 \t 3.142\n",
            "5 \t 3.14196\n",
            "6 \t 3.141957\n",
            "7 \t 3.1419569\n"
          ]
        }
      ]
    },
    {
      "cell_type": "code",
      "source": [
        "# Example\n",
        "\n",
        "x = y = z = 45\n",
        "print(x,y,z)"
      ],
      "metadata": {
        "colab": {
          "base_uri": "https://localhost:8080/"
        },
        "id": "TCAeo3TOohzE",
        "outputId": "0c4f839a-0cc3-45a0-fa0e-023caabb7cb6"
      },
      "execution_count": 18,
      "outputs": [
        {
          "output_type": "stream",
          "name": "stdout",
          "text": [
            "45 45 45\n"
          ]
        }
      ]
    },
    {
      "cell_type": "code",
      "source": [
        "# Example - replace values\n",
        "\n",
        "z = 17"
      ],
      "metadata": {
        "id": "OI7K3QYro-i8"
      },
      "execution_count": 8,
      "outputs": []
    },
    {
      "cell_type": "markdown",
      "source": [
        "# **3. Delete and Clear**"
      ],
      "metadata": {
        "id": "IlbVVI5NpT2_"
      }
    },
    {
      "cell_type": "code",
      "source": [
        "# Example - delete\n",
        "\n",
        "del x, y"
      ],
      "metadata": {
        "id": "cA5QDEg8peWt"
      },
      "execution_count": 19,
      "outputs": []
    },
    {
      "cell_type": "code",
      "source": [
        "# Example - clear\n",
        "\n",
        "%reset"
      ],
      "metadata": {
        "colab": {
          "base_uri": "https://localhost:8080/"
        },
        "id": "-CxXBu-mqAXj",
        "outputId": "4d1abb21-9a27-435b-e079-404384ccc20d"
      },
      "execution_count": 20,
      "outputs": [
        {
          "name": "stdout",
          "output_type": "stream",
          "text": [
            "Once deleted, variables cannot be recovered. Proceed (y/[n])? y\n"
          ]
        }
      ]
    },
    {
      "cell_type": "markdown",
      "source": [
        "# **4. Naming**"
      ],
      "metadata": {
        "id": "jfV0Rr0tqXwD"
      }
    },
    {
      "cell_type": "markdown",
      "source": [
        "## 4.1. Conditions and restrictions"
      ],
      "metadata": {
        "id": "XZEx4JpLqdba"
      }
    },
    {
      "cell_type": "code",
      "source": [
        "# Example - always a name of variable must start with a letter\n",
        "\n",
        "age = 18"
      ],
      "metadata": {
        "id": "qaaA7rnhqjQq"
      },
      "execution_count": 25,
      "outputs": []
    },
    {
      "cell_type": "markdown",
      "source": [
        "## 4.2. Best practices\n",
        "\n",
        "* Case sensitive"
      ],
      "metadata": {
        "id": "cHaalbHCrISU"
      }
    },
    {
      "cell_type": "code",
      "source": [
        "# Example\n",
        "\n",
        "Age = 78\n",
        "AGE = 23\n",
        "\n",
        "# Sug: always use lower case."
      ],
      "metadata": {
        "id": "WxzoAq2hrUrZ"
      },
      "execution_count": 26,
      "outputs": []
    },
    {
      "cell_type": "markdown",
      "source": [
        "* Compound names"
      ],
      "metadata": {
        "id": "_SYBg33urw2J"
      }
    },
    {
      "cell_type": "code",
      "source": [
        "# Example\n",
        "\n",
        "price_jean = 150000\n"
      ],
      "metadata": {
        "id": "OwLvfr8grzYZ"
      },
      "execution_count": null,
      "outputs": []
    },
    {
      "cell_type": "markdown",
      "source": [
        "# **5. Data types**"
      ],
      "metadata": {
        "id": "tvi0CISesYJo"
      }
    },
    {
      "cell_type": "markdown",
      "source": [
        "## 5.1. Integers"
      ],
      "metadata": {
        "id": "ZR5BTi2-scag"
      }
    },
    {
      "cell_type": "markdown",
      "source": [
        "## 5.2. Float"
      ],
      "metadata": {
        "id": "SjlJ5AHKshic"
      }
    },
    {
      "cell_type": "markdown",
      "source": [
        "**Parenthesis**: A trick"
      ],
      "metadata": {
        "id": "54L5lKzLsrwA"
      }
    },
    {
      "cell_type": "code",
      "source": [
        "# Example -set up\n",
        "\n",
        "w = 0"
      ],
      "metadata": {
        "id": "-_cw3r4us4XY"
      },
      "execution_count": 30,
      "outputs": []
    },
    {
      "cell_type": "code",
      "source": [
        "# Example\n",
        "\n",
        "w += -2\n",
        "print(w)"
      ],
      "metadata": {
        "colab": {
          "base_uri": "https://localhost:8080/"
        },
        "id": "vshMpjrDs0op",
        "outputId": "b59cf5ab-a37a-418b-a6fd-00ec7c9bfb56"
      },
      "execution_count": 40,
      "outputs": [
        {
          "output_type": "stream",
          "name": "stdout",
          "text": [
            "-4\n"
          ]
        }
      ]
    },
    {
      "cell_type": "markdown",
      "source": [
        "## 5.3. Text"
      ],
      "metadata": {
        "id": "fjy_LJ8ztjOQ"
      }
    },
    {
      "cell_type": "code",
      "source": [
        "# Example\n",
        "\n",
        "name = 'Universidad de La Salle'\n",
        "print(name)"
      ],
      "metadata": {
        "colab": {
          "base_uri": "https://localhost:8080/"
        },
        "id": "-tk3_ZBdtnmX",
        "outputId": "1f3264c3-d641-4d1c-e756-1747256fb73f"
      },
      "execution_count": 42,
      "outputs": [
        {
          "output_type": "stream",
          "name": "stdout",
          "text": [
            "Universidad de La Salle\n"
          ]
        }
      ]
    },
    {
      "cell_type": "code",
      "source": [
        "name[-2]"
      ],
      "metadata": {
        "colab": {
          "base_uri": "https://localhost:8080/",
          "height": 35
        },
        "id": "xv4nwzVtt-AP",
        "outputId": "e9f03f27-3fe9-47d5-bee7-32672548621b"
      },
      "execution_count": 47,
      "outputs": [
        {
          "output_type": "execute_result",
          "data": {
            "text/plain": [
              "'l'"
            ],
            "application/vnd.google.colaboratory.intrinsic+json": {
              "type": "string"
            }
          },
          "metadata": {},
          "execution_count": 47
        }
      ]
    },
    {
      "cell_type": "code",
      "source": [
        "name[0:11]"
      ],
      "metadata": {
        "colab": {
          "base_uri": "https://localhost:8080/",
          "height": 35
        },
        "id": "MugQbDX-unpX",
        "outputId": "5ba0b9cc-b01e-478d-8420-bf7966f17823"
      },
      "execution_count": 50,
      "outputs": [
        {
          "output_type": "execute_result",
          "data": {
            "text/plain": [
              "'Universidad'"
            ],
            "application/vnd.google.colaboratory.intrinsic+json": {
              "type": "string"
            }
          },
          "metadata": {},
          "execution_count": 50
        }
      ]
    },
    {
      "cell_type": "code",
      "source": [
        "name.split()[0]"
      ],
      "metadata": {
        "colab": {
          "base_uri": "https://localhost:8080/",
          "height": 35
        },
        "id": "44RVJRG8u52e",
        "outputId": "bb5968bf-4ab2-416a-e8cc-f1eae26cd8c1"
      },
      "execution_count": 52,
      "outputs": [
        {
          "output_type": "execute_result",
          "data": {
            "text/plain": [
              "'Universidad'"
            ],
            "application/vnd.google.colaboratory.intrinsic+json": {
              "type": "string"
            }
          },
          "metadata": {},
          "execution_count": 52
        }
      ]
    }
  ]
}