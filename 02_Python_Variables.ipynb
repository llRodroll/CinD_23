{
  "nbformat": 4,
  "nbformat_minor": 0,
  "metadata": {
    "colab": {
      "provenance": [],
      "authorship_tag": "ABX9TyMSLlObba+jupzh1GrfQaP1",
      "include_colab_link": true
    },
    "kernelspec": {
      "name": "python3",
      "display_name": "Python 3"
    },
    "language_info": {
      "name": "python"
    }
  },
  "cells": [
    {
      "cell_type": "markdown",
      "metadata": {
        "id": "view-in-github",
        "colab_type": "text"
      },
      "source": [
        "<a href=\"https://colab.research.google.com/github/llRodroll/CinD_23/blob/main/02_Python_Variables.ipynb\" target=\"_parent\"><img src=\"https://colab.research.google.com/assets/colab-badge.svg\" alt=\"Open In Colab\"/></a>"
      ]
    },
    {
      "cell_type": "markdown",
      "source": [
        "# **1. What is a variable?**\n",
        "\n",
        "A variable is a `container`, in the sense that it *stores* values."
      ],
      "metadata": {
        "id": "1CiyHSxMwjum"
      }
    },
    {
      "cell_type": "code",
      "execution_count": 3,
      "metadata": {
        "colab": {
          "base_uri": "https://localhost:8080/"
        },
        "id": "3vUDtlWhwc-V",
        "outputId": "a6eb3904-9cd5-4279-89be-f4b806571f24"
      },
      "outputs": [
        {
          "output_type": "stream",
          "name": "stdout",
          "text": [
            "2.57\n"
          ]
        }
      ],
      "source": [
        "# Example\n",
        "\n",
        "a = 2.57\n",
        "print(a)"
      ]
    },
    {
      "cell_type": "code",
      "source": [
        "#Example\n",
        "num = 152.035589855\n",
        "pi  = 0\n",
        "pf  = 7\n",
        "\n",
        "print('The approximation of',num, 'with:')\n",
        "print('Decimals','Result')\n",
        "for i in range(pi,pf+1): \n",
        "  print(i, '\\t', round(num,i))"
      ],
      "metadata": {
        "colab": {
          "base_uri": "https://localhost:8080/"
        },
        "id": "CYySBmTIx8b6",
        "outputId": "4244dab7-fa78-4082-c7f8-b284154025af"
      },
      "execution_count": 6,
      "outputs": [
        {
          "output_type": "stream",
          "name": "stdout",
          "text": [
            "The approximation of 152.035589855 with:\n",
            "Decimals Result\n",
            "0 \t 152.0\n",
            "1 \t 152.0\n",
            "2 \t 152.04\n",
            "3 \t 152.036\n",
            "4 \t 152.0356\n",
            "5 \t 152.03559\n",
            "6 \t 152.03559\n",
            "7 \t 152.0355899\n"
          ]
        }
      ]
    }
  ]
}