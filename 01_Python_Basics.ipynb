{
  "nbformat": 4,
  "nbformat_minor": 0,
  "metadata": {
    "colab": {
      "provenance": [],
      "authorship_tag": "ABX9TyNS79bGxHP0mjl1sW1M8lh9",
      "include_colab_link": true
    },
    "kernelspec": {
      "name": "python3",
      "display_name": "Python 3"
    },
    "language_info": {
      "name": "python"
    }
  },
  "cells": [
    {
      "cell_type": "markdown",
      "metadata": {
        "id": "view-in-github",
        "colab_type": "text"
      },
      "source": [
        "<a href=\"https://colab.research.google.com/github/llRodroll/CinD_23/blob/main/01_Python_Basics.ipynb\" target=\"_parent\"><img src=\"https://colab.research.google.com/assets/colab-badge.svg\" alt=\"Open In Colab\"/></a>"
      ]
    },
    {
      "cell_type": "markdown",
      "source": [
        "# Introduction\n",
        "\n",
        "Here, in this file, we are going to *code*\n",
        "\n",
        "We are going to understand Python, how it works, and some tricks."
      ],
      "metadata": {
        "id": "4sqA977kkBBX"
      }
    },
    {
      "cell_type": "markdown",
      "source": [
        "# 1. What is Python?\n",
        "\n",
        "It was created in 1991 and it is a **general-purposue progamming language**.\n",
        "\n",
        "This means that Pyhton is used for:\n",
        "\n",
        "* Data analysis\n",
        "* Automating task\n",
        "* Machinne Learning\n",
        "* Data Visualizattion\n",
        "* Optimization\n",
        "* Web development\n",
        "* User Interfaces creation\n",
        "* Create another software\n",
        "* Create video games\n",
        "\n",
        "The world runs on Python, C++, Java and HTLM / CSS, and R?"
      ],
      "metadata": {
        "id": "M-537lv4kXd_"
      }
    },
    {
      "cell_type": "markdown",
      "source": [
        "# 2. Why Python?\n",
        "\n",
        "The main reasons:\n",
        "\n",
        "* It is simple.\n",
        "* Focus. \n",
        "* Easy to learn.\n",
        "* Open-source: it is free.\n",
        "* Cross-platform.\n",
        "* Extensive libraries."
      ],
      "metadata": {
        "id": "98Dno7WHlp-8"
      }
    },
    {
      "cell_type": "markdown",
      "source": [
        "# 3. Getting Started"
      ],
      "metadata": {
        "id": "gke6KGItmvi8"
      }
    },
    {
      "cell_type": "markdown",
      "source": [
        "## 3.1. Python as a Calculator"
      ],
      "metadata": {
        "id": "khiNiXM8mzTk"
      }
    },
    {
      "cell_type": "code",
      "execution_count": null,
      "metadata": {
        "colab": {
          "base_uri": "https://localhost:8080/"
        },
        "id": "xJpp5ysLjvGC",
        "outputId": "3d760307-ea60-49d8-f9e7-26f37a2dbcd6"
      },
      "outputs": [
        {
          "output_type": "execute_result",
          "data": {
            "text/plain": [
              "4"
            ]
          },
          "metadata": {},
          "execution_count": 1
        }
      ],
      "source": [
        "# Addition\n",
        "2 + 2"
      ]
    },
    {
      "cell_type": "code",
      "source": [
        "# Subtraction\n",
        "23 - 7"
      ],
      "metadata": {
        "colab": {
          "base_uri": "https://localhost:8080/"
        },
        "id": "iSCN7escoEMK",
        "outputId": "67be6c35-dbda-4882-8dfa-73d6ce6dd285"
      },
      "execution_count": null,
      "outputs": [
        {
          "output_type": "execute_result",
          "data": {
            "text/plain": [
              "16"
            ]
          },
          "metadata": {},
          "execution_count": 2
        }
      ]
    },
    {
      "cell_type": "code",
      "source": [
        "# Multiplication\n",
        "13 * 7"
      ],
      "metadata": {
        "colab": {
          "base_uri": "https://localhost:8080/"
        },
        "id": "NSxeArEhoOw1",
        "outputId": "c58c8547-1409-424e-81d3-c74d9f06d259"
      },
      "execution_count": null,
      "outputs": [
        {
          "output_type": "execute_result",
          "data": {
            "text/plain": [
              "91"
            ]
          },
          "metadata": {},
          "execution_count": 3
        }
      ]
    },
    {
      "cell_type": "code",
      "source": [
        "# Division\n",
        "10 / 3"
      ],
      "metadata": {
        "colab": {
          "base_uri": "https://localhost:8080/"
        },
        "id": "yJNMxQF3oU8q",
        "outputId": "b39afebc-d781-41f9-b7db-9c4774b87553"
      },
      "execution_count": null,
      "outputs": [
        {
          "output_type": "execute_result",
          "data": {
            "text/plain": [
              "3.3333333333333335"
            ]
          },
          "metadata": {},
          "execution_count": 4
        }
      ]
    },
    {
      "cell_type": "code",
      "source": [
        "# Integer Division\n",
        "10 // 3"
      ],
      "metadata": {
        "colab": {
          "base_uri": "https://localhost:8080/"
        },
        "id": "ltDZPFy4onrO",
        "outputId": "b29d4524-ee9f-4844-9675-5bd2b7de1be7"
      },
      "execution_count": null,
      "outputs": [
        {
          "output_type": "execute_result",
          "data": {
            "text/plain": [
              "3"
            ]
          },
          "metadata": {},
          "execution_count": 5
        }
      ]
    },
    {
      "cell_type": "code",
      "source": [
        "# Exponential\n",
        "2**3"
      ],
      "metadata": {
        "colab": {
          "base_uri": "https://localhost:8080/"
        },
        "id": "VGHUwhqThE9_",
        "outputId": "3b04090d-282a-433d-b359-603edef4fa11"
      },
      "execution_count": null,
      "outputs": [
        {
          "output_type": "execute_result",
          "data": {
            "text/plain": [
              "8"
            ]
          },
          "metadata": {},
          "execution_count": 8
        }
      ]
    },
    {
      "cell_type": "markdown",
      "source": [
        "## 3.2. Composite operations and Parenthesis\n",
        "\n",
        "Operator precedence"
      ],
      "metadata": {
        "id": "RNj_F5hQhzEp"
      }
    },
    {
      "cell_type": "code",
      "source": [
        "# Example\n",
        "\n",
        "2 + 3*4"
      ],
      "metadata": {
        "colab": {
          "base_uri": "https://localhost:8080/"
        },
        "id": "pZRWaq3fh98l",
        "outputId": "7751e0e0-3c21-4c0e-da2b-9ed58803a349"
      },
      "execution_count": null,
      "outputs": [
        {
          "output_type": "execute_result",
          "data": {
            "text/plain": [
              "14"
            ]
          },
          "metadata": {},
          "execution_count": 9
        }
      ]
    },
    {
      "cell_type": "markdown",
      "source": [
        "You can change the operator precedence using **parenthesis**"
      ],
      "metadata": {
        "id": "5jZCL34AiNMW"
      }
    },
    {
      "cell_type": "code",
      "source": [
        "# Example\n",
        "(2 + 3)*4"
      ],
      "metadata": {
        "colab": {
          "base_uri": "https://localhost:8080/"
        },
        "id": "MIjZjFAviWmK",
        "outputId": "cf9f473d-3ced-4ce7-f92d-e2a652e8d393"
      },
      "execution_count": null,
      "outputs": [
        {
          "output_type": "execute_result",
          "data": {
            "text/plain": [
              "20"
            ]
          },
          "metadata": {},
          "execution_count": 10
        }
      ]
    },
    {
      "cell_type": "markdown",
      "source": [
        "## 3.3. Integers and Real Numbers\n",
        "\n"
      ],
      "metadata": {
        "id": "zu3OYBtMisOo"
      }
    },
    {
      "cell_type": "markdown",
      "source": [
        "### Type"
      ],
      "metadata": {
        "id": "uJBIVNm6ld-u"
      }
    },
    {
      "cell_type": "code",
      "source": [
        "# Interger (with no decimal positions)\n",
        "type(26)"
      ],
      "metadata": {
        "colab": {
          "base_uri": "https://localhost:8080/"
        },
        "id": "x-xHwmvejoxT",
        "outputId": "12a77d05-30af-4d73-b528-a47e767a1b56"
      },
      "execution_count": null,
      "outputs": [
        {
          "output_type": "execute_result",
          "data": {
            "text/plain": [
              "int"
            ]
          },
          "metadata": {},
          "execution_count": 11
        }
      ]
    },
    {
      "cell_type": "code",
      "source": [
        "# Real number (with decimal positions)\n",
        "type(26.0)"
      ],
      "metadata": {
        "colab": {
          "base_uri": "https://localhost:8080/"
        },
        "id": "svUqWOUSj86a",
        "outputId": "8c8986a2-e136-4b7c-8470-30296baac2db"
      },
      "execution_count": null,
      "outputs": [
        {
          "output_type": "execute_result",
          "data": {
            "text/plain": [
              "float"
            ]
          },
          "metadata": {},
          "execution_count": 12
        }
      ]
    },
    {
      "cell_type": "code",
      "source": [
        "# Examples\n",
        "# Find out if the next expressions are int or floats\n",
        "2 + 3.0\n",
        "2.5*7\n",
        "4.0/2 "
      ],
      "metadata": {
        "id": "OudmzzbukcAK"
      },
      "execution_count": null,
      "outputs": []
    },
    {
      "cell_type": "code",
      "source": [
        "type(2 + 3.0)"
      ],
      "metadata": {
        "colab": {
          "base_uri": "https://localhost:8080/"
        },
        "id": "yJoCLiUqlEPR",
        "outputId": "31cfce87-b734-494d-c774-5d74a1d7044a"
      },
      "execution_count": null,
      "outputs": [
        {
          "output_type": "execute_result",
          "data": {
            "text/plain": [
              "float"
            ]
          },
          "metadata": {},
          "execution_count": 14
        }
      ]
    },
    {
      "cell_type": "markdown",
      "source": [
        "### Scientific notation"
      ],
      "metadata": {
        "id": "qHTnfr85mHfY"
      }
    },
    {
      "cell_type": "code",
      "source": [
        "# Example\n",
        "5e1"
      ],
      "metadata": {
        "colab": {
          "base_uri": "https://localhost:8080/"
        },
        "id": "dhjn043AnziP",
        "outputId": "36917628-c8a7-43cf-f0fc-5499a9b645b5"
      },
      "execution_count": null,
      "outputs": [
        {
          "output_type": "execute_result",
          "data": {
            "text/plain": [
              "50.0"
            ]
          },
          "metadata": {},
          "execution_count": 15
        }
      ]
    },
    {
      "cell_type": "code",
      "source": [
        "# Example\n",
        "6e-2"
      ],
      "metadata": {
        "colab": {
          "base_uri": "https://localhost:8080/"
        },
        "id": "w1RBHfd4oFlt",
        "outputId": "2a543079-6e67-4c66-f204-5f77a3a63ed9"
      },
      "execution_count": null,
      "outputs": [
        {
          "output_type": "execute_result",
          "data": {
            "text/plain": [
              "0.06"
            ]
          },
          "metadata": {},
          "execution_count": 16
        }
      ]
    },
    {
      "cell_type": "code",
      "source": [
        "type(5e1)"
      ],
      "metadata": {
        "colab": {
          "base_uri": "https://localhost:8080/"
        },
        "id": "D2x-dRXxoTCF",
        "outputId": "17b37cd7-637a-4e6e-85ca-e95564da0a03"
      },
      "execution_count": null,
      "outputs": [
        {
          "output_type": "execute_result",
          "data": {
            "text/plain": [
              "float"
            ]
          },
          "metadata": {},
          "execution_count": 17
        }
      ]
    },
    {
      "cell_type": "code",
      "source": [
        "# Practice\n",
        "# Write 1 millon in scientific notation\n",
        "# What is the result of 3e0.2?"
      ],
      "metadata": {
        "id": "zqSExcxhof5F"
      },
      "execution_count": null,
      "outputs": []
    },
    {
      "cell_type": "code",
      "source": [
        "# Write 1 millon in scientific notation\n",
        "\n",
        "1e6"
      ],
      "metadata": {
        "colab": {
          "base_uri": "https://localhost:8080/"
        },
        "id": "IywxrJK0pGLJ",
        "outputId": "7d8d89b7-89fc-40ac-f19d-90da0478b259"
      },
      "execution_count": null,
      "outputs": [
        {
          "output_type": "execute_result",
          "data": {
            "text/plain": [
              "1000000.0"
            ]
          },
          "metadata": {},
          "execution_count": 18
        }
      ]
    },
    {
      "cell_type": "code",
      "source": [
        "# What is the result of 3e0.2?\n",
        "\n",
        "3e0.2"
      ],
      "metadata": {
        "colab": {
          "base_uri": "https://localhost:8080/",
          "height": 132
        },
        "id": "nyS0OPx-pPK0",
        "outputId": "3277bb7d-02ce-480a-b4cb-a00f918d1f02"
      },
      "execution_count": null,
      "outputs": [
        {
          "output_type": "error",
          "ename": "SyntaxError",
          "evalue": "ignored",
          "traceback": [
            "\u001b[0;36m  File \u001b[0;32m\"<ipython-input-19-4127ed36feb9>\"\u001b[0;36m, line \u001b[0;32m3\u001b[0m\n\u001b[0;31m    3e0.2\u001b[0m\n\u001b[0m       ^\u001b[0m\n\u001b[0;31mSyntaxError\u001b[0m\u001b[0;31m:\u001b[0m invalid syntax\n"
          ]
        }
      ]
    },
    {
      "cell_type": "markdown",
      "source": [
        "### Transformation\n",
        " You can change the `type()` of a number. Or you can force a `type()` of a number."
      ],
      "metadata": {
        "id": "2iF8r5QcqIIs"
      }
    },
    {
      "cell_type": "code",
      "source": [
        "# Example\n",
        "\n",
        "float(6)"
      ],
      "metadata": {
        "colab": {
          "base_uri": "https://localhost:8080/"
        },
        "id": "COVC-kBtqa9u",
        "outputId": "ea23bedc-d1d3-4bd4-8fb3-bde6724584df"
      },
      "execution_count": null,
      "outputs": [
        {
          "output_type": "execute_result",
          "data": {
            "text/plain": [
              "6.0"
            ]
          },
          "metadata": {},
          "execution_count": 20
        }
      ]
    },
    {
      "cell_type": "code",
      "source": [
        "# Example\n",
        "\n",
        "int(3.33333)"
      ],
      "metadata": {
        "colab": {
          "base_uri": "https://localhost:8080/"
        },
        "id": "dVXg4fFDqkhD",
        "outputId": "529159c7-b62e-437b-bd91-9a3fe78638ba"
      },
      "execution_count": null,
      "outputs": [
        {
          "output_type": "execute_result",
          "data": {
            "text/plain": [
              "3"
            ]
          },
          "metadata": {},
          "execution_count": 21
        }
      ]
    },
    {
      "cell_type": "markdown",
      "source": [
        "## 3.4. Basic and useful functions\n",
        "\n",
        "Functions let us do things more efficiently."
      ],
      "metadata": {
        "id": "ZxnSnkI1dSFD"
      }
    },
    {
      "cell_type": "markdown",
      "source": [
        "### **Print**"
      ],
      "metadata": {
        "id": "k1QO8SJGeOPr"
      }
    },
    {
      "cell_type": "code",
      "source": [
        "# Example with numbers\n",
        "\n",
        "print(2023)\n",
        "print(2024)\n",
        "print(22,2,2022)"
      ],
      "metadata": {
        "colab": {
          "base_uri": "https://localhost:8080/"
        },
        "id": "wM0R9D_heVEa",
        "outputId": "3e36be24-c92f-4096-9754-71ca622b06f3"
      },
      "execution_count": 5,
      "outputs": [
        {
          "output_type": "stream",
          "name": "stdout",
          "text": [
            "2023\n",
            "2024\n",
            "22 2 2022\n"
          ]
        }
      ]
    },
    {
      "cell_type": "code",
      "source": [
        "# Example - hard version\n",
        "\n",
        "for i in range(0,11): print(i)"
      ],
      "metadata": {
        "colab": {
          "base_uri": "https://localhost:8080/"
        },
        "id": "ExoJL1o7fO_a",
        "outputId": "b01bd9f2-9505-40b5-d89a-c452e836711e"
      },
      "execution_count": 7,
      "outputs": [
        {
          "output_type": "stream",
          "name": "stdout",
          "text": [
            "0\n",
            "1\n",
            "2\n",
            "3\n",
            "4\n",
            "5\n",
            "6\n",
            "7\n",
            "8\n",
            "9\n",
            "10\n"
          ]
        }
      ]
    },
    {
      "cell_type": "code",
      "source": [
        "# Example - With Text\n",
        "\n",
        "print('Hello World')\n",
        "print('First Name: José', 'Second Name: Rodrigo')\n",
        "print('First Name: José', '\\tSecond Name: Rodrigo')\n",
        "print('First Name: José', '\\nSecond Name: Rodrigo')"
      ],
      "metadata": {
        "colab": {
          "base_uri": "https://localhost:8080/"
        },
        "id": "zaTr_JEMhJTn",
        "outputId": "ba874fe7-796e-4c35-bed5-c109b91b9cfc"
      },
      "execution_count": 11,
      "outputs": [
        {
          "output_type": "stream",
          "name": "stdout",
          "text": [
            "Hello World\n",
            "First Name: José Second Name: Rodrigo\n",
            "First Name: José \tSecond Name: Rodrigo\n",
            "First Name: José \n",
            "Second Name: Rodrigo\n"
          ]
        }
      ]
    },
    {
      "cell_type": "code",
      "source": [
        "# Example - text and numbers\n",
        "\n",
        "print('My lucky number is:', 21)"
      ],
      "metadata": {
        "colab": {
          "base_uri": "https://localhost:8080/"
        },
        "id": "XVyqGvL4iv6V",
        "outputId": "5f052c74-84df-4147-bd56-3c75c789daa6"
      },
      "execution_count": 12,
      "outputs": [
        {
          "output_type": "stream",
          "name": "stdout",
          "text": [
            "My lucky number is: 21\n"
          ]
        }
      ]
    },
    {
      "cell_type": "markdown",
      "source": [
        "### **Round**\n",
        "\n",
        "It will tle us to control the decimal positions."
      ],
      "metadata": {
        "id": "BP5hOTTri_6E"
      }
    },
    {
      "cell_type": "code",
      "source": [
        "# Example\n",
        "# Consider 8.53214794\n",
        "# Let's use round\n",
        "\n",
        "print('The approximation of',8.53214794, 'with', 0, 'decimals is:', round(8.53214794,0))\n",
        "print('The approximation of',8.53214794, 'with', 1, 'decimals is:', round(8.53214794,1))"
      ],
      "metadata": {
        "colab": {
          "base_uri": "https://localhost:8080/"
        },
        "id": "_3DqlLfajLfA",
        "outputId": "67760ca5-9b49-4fb9-8309-eea1e574d830"
      },
      "execution_count": 16,
      "outputs": [
        {
          "output_type": "stream",
          "name": "stdout",
          "text": [
            "The approximation of 8.53214794 with 0 decimals is: 9.0\n",
            "The approximation of 8.53214794 with 1 decimals is: 8.5\n"
          ]
        }
      ]
    },
    {
      "cell_type": "code",
      "source": [
        "print('The approximation of',8.53214794, 'with:')\n",
        "print(0, 'decimals is:', round(8.53214794,0))\n",
        "print(1, 'decimals is:', round(8.53214794,1))"
      ],
      "metadata": {
        "colab": {
          "base_uri": "https://localhost:8080/"
        },
        "id": "LzwJMpYNmccJ",
        "outputId": "147d86f0-13d9-404c-cd60-88f716777a7d"
      },
      "execution_count": 17,
      "outputs": [
        {
          "output_type": "stream",
          "name": "stdout",
          "text": [
            "The approximation of 8.53214794 with:\n",
            "0 decimals is: 9.0\n",
            "1 decimals is: 8.5\n"
          ]
        }
      ]
    },
    {
      "cell_type": "code",
      "source": [],
      "metadata": {
        "id": "aPRqqVKRoD0G"
      },
      "execution_count": null,
      "outputs": []
    },
    {
      "cell_type": "code",
      "source": [
        "print('The approximation of',8.53214794, 'with:')\n",
        "print('Decimals','Result')\n",
        "print(0, '\\t', round(8.53214794,0))\n",
        "print(1, '\\t', round(8.53214794,1))"
      ],
      "metadata": {
        "colab": {
          "base_uri": "https://localhost:8080/"
        },
        "outputId": "76ed9d6c-83cb-48da-974f-f27c7eb8a606",
        "id": "FuGRVNeMoEnu"
      },
      "execution_count": 19,
      "outputs": [
        {
          "output_type": "stream",
          "name": "stdout",
          "text": [
            "The approximation of 8.53214794 with:\n",
            "Decimals Result\n",
            "0 \t 9.0\n",
            "1 \t 8.5\n"
          ]
        }
      ]
    },
    {
      "cell_type": "code",
      "source": [
        "print('The approximation of',8.53214794, 'with:')\n",
        "print('Decimals','Result')\n",
        "for i in range(0,8): \n",
        "  print(i, '\\t', round(8.53214794,i))\n"
      ],
      "metadata": {
        "colab": {
          "base_uri": "https://localhost:8080/"
        },
        "id": "n4_EWO1mr4mC",
        "outputId": "84ce70c7-5c45-4f8d-e2c5-715be37f1e3b"
      },
      "execution_count": 20,
      "outputs": [
        {
          "output_type": "stream",
          "name": "stdout",
          "text": [
            "The approximation of 8.53214794 with:\n",
            "Decimals Result\n",
            "0 \t 9.0\n",
            "1 \t 8.5\n",
            "2 \t 8.53\n",
            "3 \t 8.532\n",
            "4 \t 8.5321\n",
            "5 \t 8.53215\n",
            "6 \t 8.532148\n",
            "7 \t 8.5321479\n"
          ]
        }
      ]
    },
    {
      "cell_type": "code",
      "source": [
        "print('The first',100,'multiples of',2,':')\n",
        "print('Multiple','Result')\n",
        "for i in range(1,101): \n",
        "  print(i, '\\t', 2*i)"
      ],
      "metadata": {
        "colab": {
          "base_uri": "https://localhost:8080/"
        },
        "id": "t2lZligrvgPg",
        "outputId": "4a26cab2-fc20-40e2-bb7e-66f87a2ab7cd"
      },
      "execution_count": 21,
      "outputs": [
        {
          "output_type": "stream",
          "name": "stdout",
          "text": [
            "The first 100 multiples of 2 :\n",
            "Multiple Result\n",
            "1 \t 2\n",
            "2 \t 4\n",
            "3 \t 6\n",
            "4 \t 8\n",
            "5 \t 10\n",
            "6 \t 12\n",
            "7 \t 14\n",
            "8 \t 16\n",
            "9 \t 18\n",
            "10 \t 20\n",
            "11 \t 22\n",
            "12 \t 24\n",
            "13 \t 26\n",
            "14 \t 28\n",
            "15 \t 30\n",
            "16 \t 32\n",
            "17 \t 34\n",
            "18 \t 36\n",
            "19 \t 38\n",
            "20 \t 40\n",
            "21 \t 42\n",
            "22 \t 44\n",
            "23 \t 46\n",
            "24 \t 48\n",
            "25 \t 50\n",
            "26 \t 52\n",
            "27 \t 54\n",
            "28 \t 56\n",
            "29 \t 58\n",
            "30 \t 60\n",
            "31 \t 62\n",
            "32 \t 64\n",
            "33 \t 66\n",
            "34 \t 68\n",
            "35 \t 70\n",
            "36 \t 72\n",
            "37 \t 74\n",
            "38 \t 76\n",
            "39 \t 78\n",
            "40 \t 80\n",
            "41 \t 82\n",
            "42 \t 84\n",
            "43 \t 86\n",
            "44 \t 88\n",
            "45 \t 90\n",
            "46 \t 92\n",
            "47 \t 94\n",
            "48 \t 96\n",
            "49 \t 98\n",
            "50 \t 100\n",
            "51 \t 102\n",
            "52 \t 104\n",
            "53 \t 106\n",
            "54 \t 108\n",
            "55 \t 110\n",
            "56 \t 112\n",
            "57 \t 114\n",
            "58 \t 116\n",
            "59 \t 118\n",
            "60 \t 120\n",
            "61 \t 122\n",
            "62 \t 124\n",
            "63 \t 126\n",
            "64 \t 128\n",
            "65 \t 130\n",
            "66 \t 132\n",
            "67 \t 134\n",
            "68 \t 136\n",
            "69 \t 138\n",
            "70 \t 140\n",
            "71 \t 142\n",
            "72 \t 144\n",
            "73 \t 146\n",
            "74 \t 148\n",
            "75 \t 150\n",
            "76 \t 152\n",
            "77 \t 154\n",
            "78 \t 156\n",
            "79 \t 158\n",
            "80 \t 160\n",
            "81 \t 162\n",
            "82 \t 164\n",
            "83 \t 166\n",
            "84 \t 168\n",
            "85 \t 170\n",
            "86 \t 172\n",
            "87 \t 174\n",
            "88 \t 176\n",
            "89 \t 178\n",
            "90 \t 180\n",
            "91 \t 182\n",
            "92 \t 184\n",
            "93 \t 186\n",
            "94 \t 188\n",
            "95 \t 190\n",
            "96 \t 192\n",
            "97 \t 194\n",
            "98 \t 196\n",
            "99 \t 198\n",
            "100 \t 200\n"
          ]
        }
      ]
    }
  ]
}