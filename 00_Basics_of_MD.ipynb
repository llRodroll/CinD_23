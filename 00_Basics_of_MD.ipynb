{
  "nbformat": 4,
  "nbformat_minor": 0,
  "metadata": {
    "colab": {
      "provenance": [],
      "authorship_tag": "ABX9TyPtiFUDq4HxDsID0w/cBnKd",
      "include_colab_link": true
    },
    "kernelspec": {
      "name": "python3",
      "display_name": "Python 3"
    },
    "language_info": {
      "name": "python"
    }
  },
  "cells": [
    {
      "cell_type": "markdown",
      "metadata": {
        "id": "view-in-github",
        "colab_type": "text"
      },
      "source": [
        "<a href=\"https://colab.research.google.com/github/llRodroll/CinD_23/blob/main/00_Basics_of_MD.ipynb\" target=\"_parent\"><img src=\"https://colab.research.google.com/assets/colab-badge.svg\" alt=\"Open In Colab\"/></a>"
      ]
    },
    {
      "cell_type": "markdown",
      "source": [
        "jugsadxkas assdfc sdfjhsdf sakhsd cskjsd wehxwmn \n",
        "\n",
        "# Apple\n",
        "## Subtitle\n",
        "### Subsubtitle"
      ],
      "metadata": {
        "id": "APVDA8nEccu7"
      }
    },
    {
      "cell_type": "markdown",
      "source": [
        "## Section 1"
      ],
      "metadata": {
        "id": "5sdhTHofeHBs"
      }
    },
    {
      "cell_type": "markdown",
      "source": [
        "## Subsection 1"
      ],
      "metadata": {
        "id": "lswbCXjPencC"
      }
    },
    {
      "cell_type": "markdown",
      "source": [
        "# Text Formating"
      ],
      "metadata": {
        "id": "LWI0_arae0wU"
      }
    },
    {
      "cell_type": "markdown",
      "source": [
        "## Bold\n",
        "\n",
        "Using `**`:\n",
        "\n",
        "`**Rodrigo**` = **Rodrigo**"
      ],
      "metadata": {
        "id": "78jMil2ue5kH"
      }
    },
    {
      "cell_type": "markdown",
      "source": [
        "## Italic\n",
        "\n",
        "Use `*`\n",
        "\n",
        "`*Vélez*` = *Vélez*"
      ],
      "metadata": {
        "id": "B0Rvxrsjf8z7"
      }
    },
    {
      "cell_type": "markdown",
      "source": [
        "Write you your full name with the first two with bold, the first last name in Italics and the second Last name in bold+italics:\n",
        "\n",
        "**José Rodrigo** *Vélez* ***Molano***"
      ],
      "metadata": {
        "id": "QSltup32hErS"
      }
    },
    {
      "cell_type": "markdown",
      "source": [
        "# List"
      ],
      "metadata": {
        "id": "llkzFz2hjHvo"
      }
    },
    {
      "cell_type": "markdown",
      "source": [
        "## Unordered List\n",
        "\n",
        "**List of sports:**\n",
        "* football\n",
        "* basketball\n",
        "* volleyball"
      ],
      "metadata": {
        "id": "mjJDuiijjKBw"
      }
    },
    {
      "cell_type": "markdown",
      "source": [
        "## Ordered List\n",
        "\n",
        "\n",
        "**The Best signgers:**\n",
        "1. Justin Bieber\n",
        "2. Maluma\n",
        "3. Adele\n"
      ],
      "metadata": {
        "id": "heisyaxJjtS1"
      }
    },
    {
      "cell_type": "markdown",
      "source": [
        "## Nested lists\n",
        "\n",
        "**To-Do list:**\n",
        "\n",
        "1. Trainning\n",
        "\n",
        "  1.1. Wake-up early\n",
        "\n",
        "  1.2. Run 10 kms\n",
        "\n",
        "2. Rest\n",
        "\n",
        "  2.1. Sleep"
      ],
      "metadata": {
        "id": "KX6ogN27kVSX"
      }
    },
    {
      "cell_type": "markdown",
      "source": [
        "Create a nested list for your to-do for tomorrow:\n",
        "\n",
        "**To-do list for tomorrow:**\n",
        "1. *Early morning:*\n",
        "\n",
        "  1.1. Wake-up at 5am.\n",
        "  \n",
        "  1.2. Eat breakfast.\n",
        "\n",
        "  1.3. Go to work/exercise.\n",
        "\n",
        "2. *Morning:*\n",
        "\n",
        "  2.1. Teach class from 7am to 10pm.\n",
        "\n",
        "  2.2. Meetings from 10:30am to 12m.\n",
        "\n",
        "3. *Afternoon:*\n",
        "  \n",
        "  3.1. Guess? More meetings from 2pm to...\n"
      ],
      "metadata": {
        "id": "rr03bL4Zld5h"
      }
    },
    {
      "cell_type": "markdown",
      "source": [
        "## Insert a link\n",
        "\n",
        "[La Salle](https://www.lasalle.edu.co/)"
      ],
      "metadata": {
        "id": "65rkbM6IoWAJ"
      }
    },
    {
      "cell_type": "markdown",
      "source": [
        "## Tables\n",
        "\n",
        "| a | b | c |\n",
        "|---|---|---|\n",
        "| 1 | 2 | 3 |\n",
        "| 4 | 5 | 6 |\n",
        "\n",
        "Create a table with the Names, Realtionship and Age of 5 people you know\n",
        "\n",
        "*One way*\n",
        "\n",
        "| Name | Relationship | Age |\n",
        "|---|---|---|\n",
        "| A | x | 3 |\n",
        "| B | y | 6 |\n",
        "| C | z | 9 |\n",
        "\n",
        "*Another way*\n",
        "\n",
        "|   | A | B | C |\n",
        "|---|---|---|---|\n",
        "| Relationship | x | y | z |\n",
        "| Age | 3 | 6 | 9 |"
      ],
      "metadata": {
        "id": "680fHmHqqKe9"
      }
    },
    {
      "cell_type": "markdown",
      "source": [
        "# Equations"
      ],
      "metadata": {
        "id": "-_520yild4sA"
      }
    },
    {
      "cell_type": "markdown",
      "source": [
        "## In Line\n",
        "\n",
        "What means *in line*? It means in the same line that you are typing.\n",
        "\n",
        "An in line eqution will start and end with the symbol `$`.\n",
        "\n",
        "**For example:** This is the Pytagoras Theorem: $a²+b²=c²$."
      ],
      "metadata": {
        "id": "AAaLWw7ad7__"
      }
    },
    {
      "cell_type": "markdown",
      "source": [
        "## Some Tricks\n",
        "\n",
        "* Subindex: $x_{1}$.\n",
        "* Supraindex: $x^{2}$\n",
        "* Combination: $x_{1}^{2}$ or $x^{2}_{1}$"
      ],
      "metadata": {
        "id": "DYb73weufE9q"
      }
    },
    {
      "cell_type": "code",
      "execution_count": null,
      "metadata": {
        "id": "S7nKc9bcly2C"
      },
      "outputs": [],
      "source": []
    }
  ]
}