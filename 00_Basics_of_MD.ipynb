{
  "nbformat": 4,
  "nbformat_minor": 0,
  "metadata": {
    "colab": {
      "provenance": [],
      "toc_visible": true,
      "authorship_tag": "ABX9TyM72JzJFWFCP4WZYgzj7kIj",
      "include_colab_link": true
    },
    "kernelspec": {
      "name": "python3",
      "display_name": "Python 3"
    },
    "language_info": {
      "name": "python"
    }
  },
  "cells": [
    {
      "cell_type": "markdown",
      "metadata": {
        "id": "view-in-github",
        "colab_type": "text"
      },
      "source": [
        "<a href=\"https://colab.research.google.com/github/llRodroll/CinD_23/blob/main/00_Basics_of_MD.ipynb\" target=\"_parent\"><img src=\"https://colab.research.google.com/assets/colab-badge.svg\" alt=\"Open In Colab\"/></a>"
      ]
    },
    {
      "cell_type": "markdown",
      "source": [
        "jugsadxkas assdfc sdfjhsdf sakhsd cskjsd wehxwmn \n",
        "\n",
        "# Apple\n",
        "## Subtitle\n",
        "### Subsubtitle"
      ],
      "metadata": {
        "id": "APVDA8nEccu7"
      }
    },
    {
      "cell_type": "markdown",
      "source": [
        "## Section 1"
      ],
      "metadata": {
        "id": "5sdhTHofeHBs"
      }
    },
    {
      "cell_type": "code",
      "execution_count": null,
      "metadata": {
        "id": "S7nKc9bcly2C"
      },
      "outputs": [],
      "source": []
    }
  ]
}